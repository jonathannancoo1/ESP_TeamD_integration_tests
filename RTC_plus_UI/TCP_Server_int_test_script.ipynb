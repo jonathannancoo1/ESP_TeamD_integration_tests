{
 "cells": [
  {
   "cell_type": "code",
   "execution_count": 20,
   "metadata": {},
   "outputs": [
    {
     "name": "stdout",
     "output_type": "stream",
     "text": [
      "Server is listening on port 8080\n",
      "Connected by ('192.168.187.199', 65384)\n",
      "Sent to client: Option A selected.\n"
     ]
    }
   ],
   "source": [
    "import socket\n",
    "\n",
    "# Set up the server\n",
    "host = '192.168.187.184'  # Localhost for testing\n",
    "port = 8080        # Port to listen on\n",
    "\n",
    "# Create a socket\n",
    "with socket.socket(socket.AF_INET, socket.SOCK_STREAM) as server_socket:\n",
    "    server_socket.bind((host, port))\n",
    "    server_socket.listen(1)\n",
    "    print(\"Server is listening on port\", port)\n",
    "\n",
    "    # Wait for a client to connect\n",
    "    conn, addr = server_socket.accept()\n",
    "    with conn:\n",
    "        print(\"Connected by\", addr)\n",
    "        \n",
    "        while True:\n",
    "            # Prompt user for input\n",
    "            user_input = input(\"Enter 'a', 'b', or 'c': \").strip().lower()\n",
    "            \n",
    "            # Validate input\n",
    "            if user_input not in ('a', 'b', 'c'):\n",
    "                print(\"Invalid input. Please enter 'a', 'b', or 'c'.\")\n",
    "                continue\n",
    "\n",
    "            # Define response message based on input\n",
    "            if user_input == 'a':\n",
    "                message = \"Option A selected.\"\n",
    "            elif user_input == 'b':\n",
    "                message = \"Option B selected.\"\n",
    "            elif user_input == 'c':\n",
    "                message = \"Option C selected.\"\n",
    "\n",
    "            # Send the message to the client\n",
    "            conn.sendall(message.encode())\n",
    "            print(f\"Sent to client: {message}\")\n",
    "\n",
    "            # Break the loop if you want to stop after one valid input\n",
    "            # Remove the next line if you want to keep prompting\n",
    "            break\n"
   ]
  },
  {
   "cell_type": "code",
   "execution_count": null,
   "metadata": {},
   "outputs": [
    {
     "name": "stdout",
     "output_type": "stream",
     "text": [
      "Server is listening on port 8080\n"
     ]
    }
   ],
   "source": [
    "import socket\n",
    "\n",
    "host = '192.168.187.184'  # Use your server's IP\n",
    "port = 8080        # Use an appropriate port number\n",
    "\n",
    "with socket.socket(socket.AF_INET, socket.SOCK_STREAM) as server_socket:\n",
    "    server_socket.bind((host, port))\n",
    "    server_socket.listen(1)\n",
    "    print(\"Server is listening on port\", port)\n",
    "\n",
    "    # Wait for a client to connect\n",
    "    conn, addr = server_socket.accept()\n",
    "    with conn:\n",
    "        print(\"Connected by\", addr)\n",
    "        \n",
    "        for i in range(3):  # Loop to send the message 10 times\n",
    "            # Prompt user for input\n",
    "            user_input = input(\"Enter 'a', 'b', or 'c': \").strip().lower()\n",
    "            \n",
    "            # Validate input\n",
    "            if user_input not in ('a', 'b', 'c'):\n",
    "                print(\"Invalid input. Please enter 'a', 'b', or 'c'.\")\n",
    "                continue\n",
    "\n",
    "            # Define response message based on input\n",
    "            if user_input == 'a':\n",
    "                message = \"Option A selected.\"\n",
    "            elif user_input == 'b':\n",
    "                message = \"Option B selected.\"\n",
    "            elif user_input == 'c':\n",
    "                message = \"Option C selected.\"\n",
    "\n",
    "            # Send the message to the client\n",
    "            conn.sendall(message.encode())\n",
    "            print(f\"Sent to client ({i+1}/10): {message}\")\n"
   ]
  },
  {
   "cell_type": "code",
   "execution_count": null,
   "metadata": {},
   "outputs": [
    {
     "name": "stdout",
     "output_type": "stream",
     "text": [
      "Server is listening on port 8080\n",
      "Connected by ('192.168.187.199', 61180)\n"
     ]
    },
    {
     "ename": "KeyboardInterrupt",
     "evalue": "Interrupted by user",
     "output_type": "error",
     "traceback": [
      "\u001b[1;31m---------------------------------------------------------------------------\u001b[0m\n",
      "\u001b[1;31mKeyboardInterrupt\u001b[0m                         Traceback (most recent call last)\n",
      "Cell \u001b[1;32mIn[33], line 18\u001b[0m\n",
      "\u001b[0;32m     14\u001b[0m \u001b[38;5;28mprint\u001b[39m(\u001b[38;5;124m\"\u001b[39m\u001b[38;5;124mConnected by\u001b[39m\u001b[38;5;124m\"\u001b[39m, addr)\n",
      "\u001b[0;32m     16\u001b[0m \u001b[38;5;28;01mfor\u001b[39;00m i \u001b[38;5;129;01min\u001b[39;00m \u001b[38;5;28mrange\u001b[39m(\u001b[38;5;241m3\u001b[39m):  \u001b[38;5;66;03m# Loop to send the message 10 times\u001b[39;00m\n",
      "\u001b[0;32m     17\u001b[0m     \u001b[38;5;66;03m# Prompt user for input\u001b[39;00m\n",
      "\u001b[1;32m---> 18\u001b[0m     user_input \u001b[38;5;241m=\u001b[39m \u001b[38;5;28;43minput\u001b[39;49m\u001b[43m(\u001b[49m\u001b[38;5;124;43m\"\u001b[39;49m\u001b[38;5;124;43mEnter \u001b[39;49m\u001b[38;5;124;43m'\u001b[39;49m\u001b[38;5;124;43ma\u001b[39;49m\u001b[38;5;124;43m'\u001b[39;49m\u001b[38;5;124;43m, \u001b[39;49m\u001b[38;5;124;43m'\u001b[39;49m\u001b[38;5;124;43mb\u001b[39;49m\u001b[38;5;124;43m'\u001b[39;49m\u001b[38;5;124;43m, or \u001b[39;49m\u001b[38;5;124;43m'\u001b[39;49m\u001b[38;5;124;43mc\u001b[39;49m\u001b[38;5;124;43m'\u001b[39;49m\u001b[38;5;124;43m: \u001b[39;49m\u001b[38;5;124;43m\"\u001b[39;49m\u001b[43m)\u001b[49m\u001b[38;5;241m.\u001b[39mstrip()\u001b[38;5;241m.\u001b[39mlower()\n",
      "\u001b[0;32m     20\u001b[0m     \u001b[38;5;66;03m# Validate input\u001b[39;00m\n",
      "\u001b[0;32m     21\u001b[0m     \u001b[38;5;28;01mif\u001b[39;00m user_input \u001b[38;5;129;01mnot\u001b[39;00m \u001b[38;5;129;01min\u001b[39;00m (\u001b[38;5;124m'\u001b[39m\u001b[38;5;124ma\u001b[39m\u001b[38;5;124m'\u001b[39m, \u001b[38;5;124m'\u001b[39m\u001b[38;5;124mb\u001b[39m\u001b[38;5;124m'\u001b[39m, \u001b[38;5;124m'\u001b[39m\u001b[38;5;124mc\u001b[39m\u001b[38;5;124m'\u001b[39m):\n",
      "\n",
      "File \u001b[1;32m~\\AppData\\Local\\Packages\\PythonSoftwareFoundation.Python.3.12_qbz5n2kfra8p0\\LocalCache\\local-packages\\Python312\\site-packages\\ipykernel\\kernelbase.py:1282\u001b[0m, in \u001b[0;36mKernel.raw_input\u001b[1;34m(self, prompt)\u001b[0m\n",
      "\u001b[0;32m   1280\u001b[0m     msg \u001b[38;5;241m=\u001b[39m \u001b[38;5;124m\"\u001b[39m\u001b[38;5;124mraw_input was called, but this frontend does not support input requests.\u001b[39m\u001b[38;5;124m\"\u001b[39m\n",
      "\u001b[0;32m   1281\u001b[0m     \u001b[38;5;28;01mraise\u001b[39;00m StdinNotImplementedError(msg)\n",
      "\u001b[1;32m-> 1282\u001b[0m \u001b[38;5;28;01mreturn\u001b[39;00m \u001b[38;5;28;43mself\u001b[39;49m\u001b[38;5;241;43m.\u001b[39;49m\u001b[43m_input_request\u001b[49m\u001b[43m(\u001b[49m\n",
      "\u001b[0;32m   1283\u001b[0m \u001b[43m    \u001b[49m\u001b[38;5;28;43mstr\u001b[39;49m\u001b[43m(\u001b[49m\u001b[43mprompt\u001b[49m\u001b[43m)\u001b[49m\u001b[43m,\u001b[49m\n",
      "\u001b[0;32m   1284\u001b[0m \u001b[43m    \u001b[49m\u001b[38;5;28;43mself\u001b[39;49m\u001b[38;5;241;43m.\u001b[39;49m\u001b[43m_parent_ident\u001b[49m\u001b[43m[\u001b[49m\u001b[38;5;124;43m\"\u001b[39;49m\u001b[38;5;124;43mshell\u001b[39;49m\u001b[38;5;124;43m\"\u001b[39;49m\u001b[43m]\u001b[49m\u001b[43m,\u001b[49m\n",
      "\u001b[0;32m   1285\u001b[0m \u001b[43m    \u001b[49m\u001b[38;5;28;43mself\u001b[39;49m\u001b[38;5;241;43m.\u001b[39;49m\u001b[43mget_parent\u001b[49m\u001b[43m(\u001b[49m\u001b[38;5;124;43m\"\u001b[39;49m\u001b[38;5;124;43mshell\u001b[39;49m\u001b[38;5;124;43m\"\u001b[39;49m\u001b[43m)\u001b[49m\u001b[43m,\u001b[49m\n",
      "\u001b[0;32m   1286\u001b[0m \u001b[43m    \u001b[49m\u001b[43mpassword\u001b[49m\u001b[38;5;241;43m=\u001b[39;49m\u001b[38;5;28;43;01mFalse\u001b[39;49;00m\u001b[43m,\u001b[49m\n",
      "\u001b[0;32m   1287\u001b[0m \u001b[43m\u001b[49m\u001b[43m)\u001b[49m\n",
      "\n",
      "File \u001b[1;32m~\\AppData\\Local\\Packages\\PythonSoftwareFoundation.Python.3.12_qbz5n2kfra8p0\\LocalCache\\local-packages\\Python312\\site-packages\\ipykernel\\kernelbase.py:1325\u001b[0m, in \u001b[0;36mKernel._input_request\u001b[1;34m(self, prompt, ident, parent, password)\u001b[0m\n",
      "\u001b[0;32m   1322\u001b[0m \u001b[38;5;28;01mexcept\u001b[39;00m \u001b[38;5;167;01mKeyboardInterrupt\u001b[39;00m:\n",
      "\u001b[0;32m   1323\u001b[0m     \u001b[38;5;66;03m# re-raise KeyboardInterrupt, to truncate traceback\u001b[39;00m\n",
      "\u001b[0;32m   1324\u001b[0m     msg \u001b[38;5;241m=\u001b[39m \u001b[38;5;124m\"\u001b[39m\u001b[38;5;124mInterrupted by user\u001b[39m\u001b[38;5;124m\"\u001b[39m\n",
      "\u001b[1;32m-> 1325\u001b[0m     \u001b[38;5;28;01mraise\u001b[39;00m \u001b[38;5;167;01mKeyboardInterrupt\u001b[39;00m(msg) \u001b[38;5;28;01mfrom\u001b[39;00m \u001b[38;5;28;01mNone\u001b[39;00m\n",
      "\u001b[0;32m   1326\u001b[0m \u001b[38;5;28;01mexcept\u001b[39;00m \u001b[38;5;167;01mException\u001b[39;00m:\n",
      "\u001b[0;32m   1327\u001b[0m     \u001b[38;5;28mself\u001b[39m\u001b[38;5;241m.\u001b[39mlog\u001b[38;5;241m.\u001b[39mwarning(\u001b[38;5;124m\"\u001b[39m\u001b[38;5;124mInvalid Message:\u001b[39m\u001b[38;5;124m\"\u001b[39m, exc_info\u001b[38;5;241m=\u001b[39m\u001b[38;5;28;01mTrue\u001b[39;00m)\n",
      "\n",
      "\u001b[1;31mKeyboardInterrupt\u001b[0m: Interrupted by user"
     ]
    }
   ],
   "source": [
    "import socket\n",
    "\n",
    "host = '192.168.187.184'  # Use your server's IP\n",
    "port = 8080        # Use an appropriate port number\n",
    "\n",
    "with socket.socket(socket.AF_INET, socket.SOCK_STREAM) as server_socket:\n",
    "    server_socket.bind((host, port))\n",
    "    server_socket.listen(1)\n",
    "    print(\"Server is listening on port\", port)\n",
    "\n",
    "    # Wait for a client to connect\n",
    "    conn, addr = server_socket.accept()\n",
    "    with conn:\n",
    "        print(\"Connected by\", addr)\n",
    "        \n",
    "        for i in range(3):  # Loop to send the message 10 times\n",
    "            # Prompt user for input\n",
    "            user_input = input(\"Enter 'a', 'b', or 'c': \").strip().lower()\n",
    "            \n",
    "            # Validate input\n",
    "            if user_input not in ('a', 'b', 'c'):\n",
    "                print(\"Invalid input. Please enter 'a', 'b', or 'c'.\")\n",
    "                continue\n",
    "\n",
    "            # Define response message based on input\n",
    "            if user_input == 'a':\n",
    "                message = \"Option A selected.\"\n",
    "            elif user_input == 'b':\n",
    "                message = \"Option B selected.\"\n",
    "            elif user_input == 'c':\n",
    "                message = \"Option C selected.\"\n",
    "\n",
    "            # Send the message to the client\n",
    "            conn.sendall(message.encode())\n",
    "            print(f\"Sent to client ({i+1}/10): {message}\")\n"
   ]
  },
  {
   "cell_type": "code",
   "execution_count": 1,
   "metadata": {},
   "outputs": [
    {
     "name": "stdout",
     "output_type": "stream",
     "text": [
      "Server is listening on port 8080\n",
      "Connected by ('192.168.187.199', 54168)\n",
      "Sent to client: Option A selected.\n"
     ]
    }
   ],
   "source": [
    "import socket\n",
    "\n",
    "# Set up the server\n",
    "host = '192.168.187.184'  # Localhost for testing\n",
    "port = 8080        # Port to listen on\n",
    "\n",
    "# Create a socket\n",
    "with socket.socket(socket.AF_INET, socket.SOCK_STREAM) as server_socket:\n",
    "    server_socket.bind((host, port))\n",
    "    server_socket.listen(1)\n",
    "    print(\"Server is listening on port\", port)\n",
    "\n",
    "    # Wait for a client to connect\n",
    "    conn, addr = server_socket.accept()\n",
    "    with conn:\n",
    "        print(\"Connected by\", addr)\n",
    "        \n",
    "        while True:\n",
    "            # Prompt user for input\n",
    "            user_input = input(\"Enter 'a', 'b', or 'c': \").strip().lower()\n",
    "            \n",
    "            # Validate input\n",
    "            if user_input not in ('a', 'b', 'c'):\n",
    "                print(\"Invalid input. Please enter 'a', 'b', or 'c'.\")\n",
    "                continue\n",
    "\n",
    "            # Define response message based on input\n",
    "            if user_input == 'a':\n",
    "                message = \"Option A selected.\"\n",
    "            elif user_input == 'b':\n",
    "                message = \"Option B selected.\"\n",
    "            elif user_input == 'c':\n",
    "                message = \"Option C selected.\"\n",
    "\n",
    "            # Send the message to the client\n",
    "            conn.sendall(message.encode())\n",
    "            print(f\"Sent to client: {message}\")\n",
    "\n",
    "            # Break the loop if you want to stop after one valid input\n",
    "            # Remove the next line if you want to keep prompting\n",
    "            break\n"
   ]
  },
  {
   "cell_type": "code",
   "execution_count": 14,
   "metadata": {},
   "outputs": [
    {
     "name": "stdout",
     "output_type": "stream",
     "text": [
      "Your IPv4 address is: 192.168.187.184\n"
     ]
    }
   ],
   "source": [
    "import socket\n",
    "\n",
    "def get_ipv4_address():\n",
    "    # Create a socket to connect to a common server to get the IPv4 address\n",
    "    try:\n",
    "        s = socket.socket(socket.AF_INET, socket.SOCK_DGRAM)\n",
    "        # Use Google DNS to determine the IPv4 address (doesn't actually send data)\n",
    "        s.connect((\"8.8.8.8\", 80))\n",
    "        ipv4_address = s.getsockname()[0]\n",
    "    except Exception as e:\n",
    "        print(f\"Error occurred: {e}\")\n",
    "        ipv4_address = None\n",
    "    finally:\n",
    "        s.close()\n",
    "    \n",
    "    return ipv4_address\n",
    "\n",
    "# Print your IPv4 address\n",
    "print(\"Your IPv4 address is:\", get_ipv4_address())"
   ]
  }
 ],
 "metadata": {
  "kernelspec": {
   "display_name": "Python 3",
   "language": "python",
   "name": "python3"
  },
  "language_info": {
   "codemirror_mode": {
    "name": "ipython",
    "version": 3
   },
   "file_extension": ".py",
   "mimetype": "text/x-python",
   "name": "python",
   "nbconvert_exporter": "python",
   "pygments_lexer": "ipython3",
   "version": "3.12.7"
  }
 },
 "nbformat": 4,
 "nbformat_minor": 2
}
